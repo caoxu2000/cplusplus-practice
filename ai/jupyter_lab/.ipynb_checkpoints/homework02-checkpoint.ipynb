{
 "cells": [
  {
   "cell_type": "markdown",
   "id": "d24d878b-1464-45e9-8396-433b49300aa5",
   "metadata": {},
   "source": [
    "# Homework 2 - Fall 2024\n",
    "\n",
    "In this homework assignment, you are going to implement the four uninformed search algorithms. You will then apply these algorithms to two versions of the Towers of Hanoi problem.\n",
    "\n",
    "You can work on this by yourself or in groups up to size 3. If you are working as a group, only one person needs to submit the assignment on Canvas, but make sure to write who you worked with as a submission comment!"
   ]
  },
  {
   "cell_type": "markdown",
   "id": "fe09b3b9-8247-4ebb-ae39-7a8e3d0c9542",
   "metadata": {},
   "source": [
    "## Preface\n",
    "\n",
    "### Imports\n",
    "\n",
    "Let's begin by importing the necessary libraries. If you're interested in reading more about each of these libraries, check out these links to the docs:\n",
    "\n",
    "- [collections](https://docs.python.org/3/library/collections.html#collections.deque)\n",
    "- [heapq](https://docs.python.org/3/library/heapq.html)\n",
    "- [math](https://docs.python.org/3/library/math.html)\n",
    "- [random](https://docs.python.org/3/library/random.html)\n",
    "- [sys](https://docs.python.org/3/library/sys.html)"
   ]
  },
  {
   "cell_type": "code",
   "execution_count": null,
   "id": "202e273d-5606-423f-8fc8-cc2367806f65",
   "metadata": {},
   "outputs": [],
   "source": [
    "from   collections import deque\n",
    "import heapq\n",
    "import math\n",
    "import random\n",
    "import sys\n",
    "\n",
    "# we are going to treat a `deque` as a `queue`\n",
    "queue = deque"
   ]
  },
  {
   "cell_type": "markdown",
   "id": "037458ef-47b5-47aa-be45-43ef94e759b7",
   "metadata": {},
   "source": [
    "### Classes\n",
    "\n",
    "Before you can begin implementing the algorithm, we need a few classes to represent various data structures. Don't worry about this code, you don't need to necessarily understand it all. However, for those that are curious, I encourage you to read through it."
   ]
  },
  {
   "cell_type": "code",
   "execution_count": null,
   "id": "35fff36c-3c88-4a47-a55b-f83a76b92cbc",
   "metadata": {},
   "outputs": [],
   "source": [
    "class Problem:\n",
    "    def __init__(self, initial=None, goal=None, **kwds):\n",
    "        self.__dict__.update(initial=initial, goal=goal, **kwds)\n",
    "\n",
    "    \n",
    "    def actions(self, state):\n",
    "        raise NotImplementedError\n",
    "\n",
    "    \n",
    "    def result(self, state, action):\n",
    "        raise NotImplementedError\n",
    "\n",
    "    \n",
    "    def is_goal(self, state):\n",
    "        return state == self.goal\n",
    "\n",
    "    \n",
    "    def action_cost(self, s, a, s1):\n",
    "        return 1"
   ]
  },
  {
   "cell_type": "code",
   "execution_count": null,
   "id": "57a535e0-e75d-4216-8591-e1ecf757d114",
   "metadata": {},
   "outputs": [],
   "source": [
    "class Node:\n",
    "    def __init__(self, state, parent=None, action=None, path_cost=0):\n",
    "        self.__dict__.update(state=state, parent=parent, action=action, path_cost=path_cost)\n",
    "\n",
    "    \n",
    "    def __lt__(self, other):\n",
    "        return self.path_cost < other.path_cost\n",
    "\n",
    "    \n",
    "    def __len__(self):\n",
    "        return 0 if self.parent is None else (1 + len(self.parent))"
   ]
  },
  {
   "cell_type": "code",
   "execution_count": null,
   "id": "9e4a7e09-bcd0-47e4-8b84-ee16cbf992e3",
   "metadata": {},
   "outputs": [],
   "source": [
    "class PriorityQueue:\n",
    "    def __init__(self, items=(), key=lambda x : x):\n",
    "        self.key = key\n",
    "        self.items = []\n",
    "        for item in items:\n",
    "            self.add(item)\n",
    "\n",
    "    \n",
    "    def add(self, item):\n",
    "        pair = (self.key(item), item)\n",
    "        heapq.heappush(self.items, pair)\n",
    "\n",
    "    \n",
    "    def pop(self):\n",
    "        return heapq.heappop(self.items)[1]\n",
    "\n",
    "    \n",
    "    def is_empty(self):\n",
    "        return len(self.items) == 0"
   ]
  },
  {
   "cell_type": "markdown",
   "id": "1ae470c8-4ab9-49b5-87a8-a96cd81d4534",
   "metadata": {},
   "source": [
    "### Variables\n",
    "\n",
    "To help with the algorithms, let's create a couple of variables. We need one to represent when a solution is not found. We also need one to represent a cutoff for the iterative deepening search algorithm. You can use these variables within your implementation."
   ]
  },
  {
   "cell_type": "code",
   "execution_count": null,
   "id": "43b03686-9ae7-4464-9742-928a3fd12a4b",
   "metadata": {},
   "outputs": [],
   "source": [
    "failure = Node('failure', path_cost=math.inf)\n",
    "cutoff  = Node('cutoff',  path_cost=math.inf)"
   ]
  },
  {
   "cell_type": "markdown",
   "id": "dfe4e67c-56d9-495c-8653-5c0014f889c2",
   "metadata": {},
   "source": [
    "### Cycle Detection\n",
    "\n",
    "For the depth algorithms, we need a function that can provide cycle detection. The following is a simple, recursive algorithm to do this. It returns `True` if a cycle has been found, otherwise it produces `False`. Note, however, that the algorithm isn't guaranteed, as it only backtracks `k` number of times. If a cycle exceeds `k` in length, this function won't detect it. But, for our problems, this is good enough."
   ]
  },
  {
   "cell_type": "code",
   "execution_count": null,
   "id": "cb0bc0b6-60c1-4df8-943c-f207975fbe0e",
   "metadata": {},
   "outputs": [],
   "source": [
    "def is_cycle(node, k=100):\n",
    "    def find_cycle(ancestor, k):\n",
    "        return (ancestor is not None and\n",
    "                k > 0 and\n",
    "                (ancestor.state == node.state or\n",
    "                 find_cycle(ancestor.parent, k - 1)))\n",
    "    return find_cycle(node.parent, k)"
   ]
  },
  {
   "cell_type": "markdown",
   "id": "dfa2c905-20b6-4e7a-bb56-ec89e0e621f7",
   "metadata": {},
   "source": [
    "### Expand\n",
    "\n",
    "Finally, we need a function to expand a node."
   ]
  },
  {
   "cell_type": "code",
   "execution_count": null,
   "id": "0b94dc38-d6e2-4d24-8907-45fa1c387803",
   "metadata": {},
   "outputs": [],
   "source": [
    "def expand(problem, node):\n",
    "    s = node.state\n",
    "    for act in problem.actions(s):\n",
    "        s1 = problem.result(s, act)\n",
    "        cost = node.path_cost + problem.action_cost(s, act, s1)\n",
    "        yield Node(s1, node, act, cost)"
   ]
  },
  {
   "cell_type": "markdown",
   "id": "82d24101-1999-40ee-90ed-cca6aeb072bb",
   "metadata": {},
   "source": [
    "## Uninformed Search Algorithms\n",
    "\n",
    "### Breadth-First Search\n",
    "\n",
    "Now we can start. Begin by implementing the breadth-first search algorithm based on the pseudocode from lecture. This is the efficient version that does not reuse best-first search. You will need to use `queue` as your data structure for the frontier. You might want to [read the docs](https://docs.python.org/3/library/collections.html#collections.deque) about the various functions you can call on your `queue` object. Remember that for our assignment, we are using the word `queue` as a replacement for the word `deque`."
   ]
  },
  {
   "cell_type": "code",
   "execution_count": null,
   "id": "4c429e57-799a-4b8f-8cee-4dfa1408d24d",
   "metadata": {},
   "outputs": [],
   "source": [
    "def breadth_first_search(problem):\n",
    "    # TODO: write your solution here\n",
    "    pass # <-- remove me 😼"
   ]
  },
  {
   "cell_type": "markdown",
   "id": "b8e6290a-4398-4ca8-b746-6f01c58998fa",
   "metadata": {},
   "source": [
    "### Uniform-Cost Search\n",
    "\n",
    "The second algorithm to implement is uniform-cost search. The pseudocode from lecture mentions simply using the best-first search algorithm as part of this implementation. However, we don't have that function implemented. That will be your task here. Refer back to the pseudocode for best-first search and use that as the implementation for the `uniform_cost_search` function.\n",
    "\n",
    "Your implementation will require creating a `PriorityQueue` object. Use this code in your function to create one:\n",
    "\n",
    "```Python\n",
    "frontier = PriorityQueue([node], key=get_path_cost)\n",
    "```"
   ]
  },
  {
   "cell_type": "code",
   "execution_count": null,
   "id": "a25d00ac-c531-47c6-9a95-b70b1f2778a8",
   "metadata": {},
   "outputs": [],
   "source": [
    "def get_path_cost(node):\n",
    "    \"\"\"\n",
    "    A simple function that just extracts the path cost from a given node.\n",
    "    Used as the evaluation function, f(n), for implementing UCS.\n",
    "    \"\"\"\n",
    "    return node.path_cost\n",
    "\n",
    "\n",
    "def uniform_cost_search(problem):\n",
    "    # TODO: write your solution here\n",
    "    pass # <-- remove me 😼"
   ]
  },
  {
   "cell_type": "markdown",
   "id": "77cec265-d096-4125-972c-ea6c7d92411d",
   "metadata": {},
   "source": [
    "### Depth-First Search\n",
    "\n",
    "Third, let's implement the depth-first search algorithm based on the pseudocode from lecture. Once again, we want to use the efficient version that does not rely on best-first search. Recall that the frontier for this algorithm needs to emulate a LIFO (last-in, first-out) stack. As it turns out, the list in Python can replicate this behavior using its [built-in functions](https://docs.python.org/3/library/stdtypes.html#sequence-types-list-tuple-range). You will also need to use the `is_cycle` function by passing in a node."
   ]
  },
  {
   "cell_type": "code",
   "execution_count": null,
   "id": "59734625-e616-432d-838a-06f715146045",
   "metadata": {},
   "outputs": [],
   "source": [
    "def depth_first_search(problem):\n",
    "    # TODO: write your solution here\n",
    "    pass # <-- remove me 😼"
   ]
  },
  {
   "cell_type": "markdown",
   "id": "533edf54-a786-42f3-a085-54e23c57dab1",
   "metadata": {},
   "source": [
    "### Iterative Deepening Search\n",
    "\n",
    "The last uninformed search algorithm to implement is iterative deepening. Recall from lecture that this is split into two functions. To represent $\\infty$, you can use `sys.maxsize`. Further, you can use `len` on any node to calculate its depth."
   ]
  },
  {
   "cell_type": "code",
   "execution_count": null,
   "id": "aec74cec-7068-4d5b-8539-267b75b9769f",
   "metadata": {},
   "outputs": [],
   "source": [
    "def iterative_deepening_search(problem):\n",
    "    # TODO: write your solution here\n",
    "    pass # <-- remove me 😼\n",
    "\n",
    "\n",
    "def depth_limited_search(problem, limit):\n",
    "    # TODO: write your solution here\n",
    "    pass # <-- remove me 😼"
   ]
  },
  {
   "cell_type": "markdown",
   "id": "aa35a5a0-8ceb-4f03-a719-e15e76456f75",
   "metadata": {},
   "source": [
    "## Towers of Hanoi\n",
    "\n",
    "With our algorithms now implemented, let's create a problem to test them. We will use the Towers of Hanoi puzzle for this.\n",
    "\n",
    "A few notes on representation:\n",
    "\n",
    "- a state is represented as a nested tuple of sorted integers, where each peg is its own tuple\n",
    "    + For example, the initial state for the 3-disc puzzle is `((1,2,3), (), ())`\n",
    "- an action is a tuple of integers\n",
    "    + The first element represents the source peg\n",
    "    + The second element represents the destination peg\n",
    "    + The third element is the disc number\n",
    "    + For example, `(0,2,1)` means that disc 1 is being moved from peg A to peg C\n",
    "    + Another example, `(1,0,3)` means that disc 3 is being moved from B to peg A\n",
    " \n",
    "With this representation in mind, implement the `result` and `actions` methods for the `TowersOfHanoi` class.\n",
    "\n",
    "Remember that `result` is the transition model, i.e. if I apply `action` to the given `state`, what is the new state I'm going to end up in. You will need to return that new state.\n",
    "\n",
    "For the `actions` method, you need to determine what are all the possible, legal actions that the AI agent can take for the given `state`. Because there may be more than one possible action, you need to return a list."
   ]
  },
  {
   "cell_type": "code",
   "execution_count": null,
   "id": "01304f5a-67ea-40d0-ad57-208328bf5dfe",
   "metadata": {},
   "outputs": [],
   "source": [
    "class TowersOfHanoi(Problem):\n",
    "    def __init__(self, initial=(), goal=(), num_discs=2, **kwds):\n",
    "        Problem.__init__(self, initial=(tuple([i for i in range(1,num_discs+1)]),(),()), goal=((),(),tuple([i for i in range(1,num_discs+1)])), num_discs=num_discs, **kwds)\n",
    "\n",
    "\n",
    "    def result(self, state, action):\n",
    "        # TODO: write your solution here\n",
    "        pass # <-- remove me 😼\n",
    "\n",
    "\n",
    "    def actions(self, state):\n",
    "        # TODO: write your solution here\n",
    "        pass # <-- remove me 😼"
   ]
  },
  {
   "cell_type": "markdown",
   "id": "33de8868-6458-4996-a212-79d4976b4c95",
   "metadata": {},
   "source": [
    "The moment of truth is at hand for our AI agent. Let's try running our algorithms on the Towers of Hanoi problem. The code block below will call each of your algorithms on the same problem instance. For each algorithm, it will visualize the solution it found. Feel free to try different values for `num_discs` below.\n",
    "\n",
    "However, <span style=\"color:red;\">**warning**</span>, if you pick a number greater than 4, one of these algorithms will take a very, *very*, **VERY** long time to execute. Try to think about why that might be 😺"
   ]
  },
  {
   "cell_type": "code",
   "execution_count": null,
   "id": "202402e0-b9db-4fd9-b198-02633bbcda25",
   "metadata": {},
   "outputs": [],
   "source": [
    "def visualize(solution):\n",
    "    # base case\n",
    "    if solution == None:\n",
    "        return\n",
    "\n",
    "    # recursive case\n",
    "    # visualize your parent first\n",
    "    visualize(solution.parent)\n",
    "\n",
    "    # extract my state, which is a nested tuple with type ((int,),(int,),(int,))\n",
    "    s = solution.state\n",
    "\n",
    "    # extract my action, if possible, which is a tuple with type (int,)\n",
    "    if solution.action != None:\n",
    "        peg_src, peg_dest, disc_num = solution.action\n",
    "\n",
    "    # calculate the height of the towers\n",
    "    height = sum(map(len, s))\n",
    "\n",
    "    # for every disc height (top to bottom)\n",
    "    for r in reversed(range(height)):\n",
    "        # for every peg, which is a tuple with type (int,)\n",
    "        for peg in s:\n",
    "            # calculate and print\n",
    "            peg  = peg[::-1]\n",
    "            disc = '-' * (0 if r >= len(peg) else peg[r])\n",
    "            print(f'{disc:>{height}}|{disc:{height}}', end=' ')\n",
    "        print()\n",
    "    \n",
    "    # print the base\n",
    "    print('=' * (height * 6 + 5))\n",
    "\n",
    "    # print the action message\n",
    "    if solution.action != None:\n",
    "        translate = ['A', 'B', 'C']\n",
    "        print('Moving disc', disc_num,\n",
    "              'from peg', translate[peg_src],\n",
    "              'to', translate[peg_dest])\n",
    "    \n",
    "    # create space for the next one\n",
    "    print()\n",
    "\n",
    "\n",
    "toh   = TowersOfHanoi(num_discs=1)    # <----- change this number if you want 😺\n",
    "funcs = {'Breadth-First Search'       : breadth_first_search,\n",
    "         'Uniform-Cost Search'        : uniform_cost_search,\n",
    "         'Depth-First Search'         : depth_first_search,\n",
    "         'Iterative Deepening Search' : iterative_deepening_search}\n",
    "\n",
    "for name, f in funcs.items():\n",
    "    solution = f(toh)\n",
    "    print('*' * 50, name, 'Total Moves (depth): ' + str(len(solution)), '*' * 50, sep='\\n', end='\\n\\n')\n",
    "    visualize(solution)"
   ]
  },
  {
   "cell_type": "markdown",
   "id": "e6cbadd7-be33-42d6-b69b-4e478ed69be5",
   "metadata": {},
   "source": [
    "## Weighted Towers of Hanoi\n",
    "\n",
    "The original Towers of Hanoi has a uniform cost for all actions, namely 1. However, let's see how the algorithms perform when the actions have different costs. The `WeightedTowers` class below is a version of Towers of Hanoi that generates random costs for moving a disc."
   ]
  },
  {
   "cell_type": "code",
   "execution_count": null,
   "id": "4219e2bb-4ee6-4459-96b3-04db1791e153",
   "metadata": {},
   "outputs": [],
   "source": [
    "class WeightedTowers(TowersOfHanoi):\n",
    "    def __init__(self, num_discs=2, **kwds):\n",
    "        super().__init__(self, num_discs=num_discs, **kwds)\n",
    "        random.seed(3249)\n",
    "        self.matrix = []\n",
    "        for i in range(3):\n",
    "            self.matrix.append([])\n",
    "            for j in range(3):\n",
    "                self.matrix[i].append([])\n",
    "                self.matrix[i][j] = random.randrange(1, num_discs * 10)\n",
    "\n",
    "    \n",
    "    def action_cost(self, s, a, s1):\n",
    "        peg_src, peg_dest, disc_num = a\n",
    "        return self.matrix[peg_src][peg_dest]"
   ]
  },
  {
   "cell_type": "markdown",
   "id": "79828452-2316-439f-8147-0a63a818b557",
   "metadata": {},
   "source": [
    "Let's run the algorithms again on this weighted version of Towers of Hanoi. Pay attention to the total cost that each algorithm's solution has. Does it match up with what we discussed in lecture? Try out different values for `num_discs` too. The same <span style=\"color:red;\">**warning**</span> from above applies here as well."
   ]
  },
  {
   "cell_type": "code",
   "execution_count": null,
   "id": "7287dac2-59fb-4f04-ace9-729779cfb4cc",
   "metadata": {},
   "outputs": [],
   "source": [
    "wt = WeightedTowers(num_discs=1) # <----- change this number if you want 😺\n",
    "for name, f in funcs.items():\n",
    "    solution = f(wt)\n",
    "    print('*' * 50, name, 'Total Moves (depth): ' + str(len(solution)), 'Total Cost: ' + str(solution.path_cost), '*' * 50, sep='\\n', end='\\n\\n')\n",
    "    visualize(solution)"
   ]
  }
 ],
 "metadata": {
  "kernelspec": {
   "display_name": "Python 3 (ipykernel)",
   "language": "python",
   "name": "python3"
  },
  "language_info": {
   "codemirror_mode": {
    "name": "ipython",
    "version": 3
   },
   "file_extension": ".py",
   "mimetype": "text/x-python",
   "name": "python",
   "nbconvert_exporter": "python",
   "pygments_lexer": "ipython3",
   "version": "3.10.12"
  }
 },
 "nbformat": 4,
 "nbformat_minor": 5
}
