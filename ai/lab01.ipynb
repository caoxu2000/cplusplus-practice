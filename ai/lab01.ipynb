{
 "cells": [
  {
   "cell_type": "markdown",
   "id": "73a8b638-a8c3-4d1a-b47c-ed865f7fe6ee",
   "metadata": {},
   "source": [
    "# Lab 1\n",
    "\n",
    "**Due Date**: 8/23/24 by 8pm on Canvas"
   ]
  },
  {
   "cell_type": "markdown",
   "id": "8a88f26e-e18a-4ca5-b30c-272cdc13b942",
   "metadata": {},
   "source": [
    "## Jupyter Notebooks\n",
    "\n",
    "Jupyter notebook is an interactive platform, where you can write code and text, and make visualizations."
   ]
  },
  {
   "cell_type": "markdown",
   "id": "2d577e57-6ee6-4eec-a17b-791dc7e63e3b",
   "metadata": {
    "jp-MarkdownHeadingCollapsed": true
   },
   "source": [
    "### Cells\n",
    "\n",
    "**Code cell**: By default, a cell is of type *Code*, i.e., for typing code, as seen as the default choice in the dropdown menu below the *Widgets* tab.\n",
    "\n",
    "**Markdown cell**: A code cell cannot be used for writing headings/sub-headings, and is not appropriate for writing lengthy chunks of text. In such cases, change the cell type to *Markdown* from the dropdown menu below the *Widgets* tab. Use any markdown cheat sheet found online, for example, [this one](https://www.markdownguide.org/cheat-sheet/) to format text in the markdown cells."
   ]
  },
  {
   "cell_type": "markdown",
   "id": "36a7c686-7014-4dca-acb8-24bcdd337b8b",
   "metadata": {
    "jp-MarkdownHeadingCollapsed": true
   },
   "source": [
    "### Saving and Loading Notebooks\n",
    "\n",
    "Save the notebook by clicking on <kbd>File</kbd>, and selecting <kbd>Save Notebook</kbd>, or clicking on the *Save and Checkpoint* icon (the floppy disk). Your notebook will be saved as a file with the extension `ipynb`. This file will contain all the code as well as the outputs, and can be loaded and edited by a Jupyter user. To load an existing Jupyter notebook, navigate to the folder of the notebook on the landing page, and then click on the file to open it."
   ]
  },
  {
   "cell_type": "markdown",
   "id": "4c590429-564a-4e21-aa24-c884394e9562",
   "metadata": {},
   "source": [
    "## Variables, Expressions, and Statements\n",
    "\n",
    "To execute the Python code in the code cell below, click on the cell to select it and press <kbd>Shift</kbd> + <kbd>Enter</kbd> or click on the Play symbol."
   ]
  },
  {
   "cell_type": "code",
   "execution_count": null,
   "id": "fd20813d-c1f0-408e-b493-5d7c28d97f1b",
   "metadata": {},
   "outputs": [],
   "source": [
    "print('Hello, Python!')"
   ]
  },
  {
   "cell_type": "markdown",
   "id": "2523e4d2-bf6d-4e84-9951-d1a0676b9726",
   "metadata": {},
   "source": [
    "`print()` is a function. You passed the string `'Hello, Python!'` as an argument to instruct Python on what to print.\n",
    "\n",
    "### Comments\n",
    "\n",
    "In addition to writing code, note that it's always a good idea to add comments to your code. It will help others understand what you were trying to accomplish (the reason why you wrote a given snippet of code). Not only does this help **other people** understand your code, it can also serve as a reminder **to you** when you come back to it weeks or months later.\n",
    "\n",
    "To write comments in Python, use the number symbol `#` before writing your comment. When you run your code, Python will ignore everything past the `#` on a given line."
   ]
  },
  {
   "cell_type": "code",
   "execution_count": null,
   "id": "7c495d65-e8f7-44c4-880e-055a6f465f54",
   "metadata": {},
   "outputs": [],
   "source": [
    "# Practice on writing comments\n",
    "\n",
    "print('Hello, Python!') # This line prints a string\n",
    "# print('Hi')"
   ]
  },
  {
   "cell_type": "markdown",
   "id": "11c6df95-f24f-4b2f-a4f7-e9e4f80a070a",
   "metadata": {},
   "source": [
    "### Errors\n",
    "\n",
    "Everyone makes mistakes. For many types of mistakes, Python will tell you that you have made a mistake by giving you an error message. It is important to read error messages carefully to really understand where you made a mistake and how you may go about correcting it.\n",
    "\n",
    "For example, if you spell `print` as `frint`, Python will display an error message."
   ]
  },
  {
   "cell_type": "code",
   "execution_count": null,
   "id": "b25a3209-91c8-42f0-8ca0-e214bcb50b9a",
   "metadata": {},
   "outputs": [],
   "source": [
    "frint(\"Hello, Python!\")"
   ]
  },
  {
   "cell_type": "markdown",
   "id": "bf91d44f-bca9-4348-9d34-441f84cf184a",
   "metadata": {},
   "source": [
    "The error message tells you:\n",
    "\n",
    "- where the error occurred (more useful in large notebook cells or scripts), and\n",
    "- what kind of error it was (NameError)\n",
    "\n",
    "Here, Python attempted to run the function `frint`, but could not determine what `frint` is since it's not a built-in function and it has not been previously defined by us either.\n",
    "\n",
    "You'll notice that if we make a different type of mistake, by forgetting to close the string, we'll obtain a different error (i.e., a *SyntaxError*)."
   ]
  },
  {
   "cell_type": "code",
   "execution_count": null,
   "id": "88911a1b-0314-4895-b018-40b2a5c559f8",
   "metadata": {},
   "outputs": [],
   "source": [
    "print(\"Hello, Python!)"
   ]
  },
  {
   "cell_type": "markdown",
   "id": "151ea900-1972-44ff-8edf-6a97c0cfa8ce",
   "metadata": {},
   "source": [
    "Python is what is called an *interpreted language*. Compiled languages examine your entire program at compile time, and are able to warn you about a whole class of errors prior to execution. In contrast, Python interprets your script line by line as it executes it. Python will stop executing the entire program when it encounters an error."
   ]
  },
  {
   "cell_type": "code",
   "execution_count": null,
   "id": "02bb2bc5-3ea9-45f7-9fe2-458e64817bf1",
   "metadata": {},
   "outputs": [],
   "source": [
    "print(\"This will be printed\")\n",
    "frint(\"This will cause an error\")\n",
    "print(\"This will NOT be printed\")"
   ]
  },
  {
   "cell_type": "markdown",
   "id": "72f4b410-530a-4674-a4bb-a2c9df8b719c",
   "metadata": {},
   "source": [
    "### Data Types\n",
    "\n",
    "Python is an *object-oriented language*. There are many different types of objects in Python. Anytime you write words (text) in Python, you're using *strings*. The most common numbers, on the other hand, are *integers* (e.g. -1, 0, 100) and *floats*, which represent real numbers (e.g. 3.14, -42.0).\n",
    "\n",
    "`int`, `float`, `bool`, `None`, and `str` are called **primitive data types**."
   ]
  },
  {
   "cell_type": "code",
   "execution_count": null,
   "id": "a063af5e-4549-46f9-8580-5b2c7e701dea",
   "metadata": {},
   "outputs": [],
   "source": [
    "print(11) # integer\n",
    "print(2.14) # float\n",
    "print(\"A chicken crossed the road\") # string"
   ]
  },
  {
   "cell_type": "markdown",
   "id": "bcf05eb5-f1bc-499f-81e8-c75df677032c",
   "metadata": {},
   "source": [
    "You can get Python to tell you the type of an expression by using the built-in `type()` function."
   ]
  },
  {
   "cell_type": "code",
   "execution_count": null,
   "id": "4d123491-a99d-48eb-be3b-500e3746035d",
   "metadata": {},
   "outputs": [],
   "source": [
    "print(type(4))\n",
    "print(type(4.4))\n",
    "print(type('4'))\n",
    "print(type(True))"
   ]
  },
  {
   "cell_type": "markdown",
   "id": "a38c8b09-12de-4cfb-9164-9c4df1c22484",
   "metadata": {},
   "source": [
    "You can change the type of the object in Python; this is called **typecasting**. For example, you can convert an `int` into a `float`."
   ]
  },
  {
   "cell_type": "code",
   "execution_count": null,
   "id": "e57c1357-22fa-4917-9774-5b7e7dddf349",
   "metadata": {},
   "outputs": [],
   "source": [
    "print(float(2)) # convert 2 to a float\n",
    "print(type(float(2))) # convert integer 2 to a float and check its type"
   ]
  },
  {
   "cell_type": "markdown",
   "id": "fc76ac09-1f1c-4480-b052-87097a4f4dc9",
   "metadata": {},
   "source": [
    "When we convert an integer into a float, we don't really change the value of the number. However, if we cast a float into an integer, we could potentially lose some information."
   ]
  },
  {
   "cell_type": "code",
   "execution_count": null,
   "id": "8639a976-18a7-4e23-82b4-fcdbbf3e5d2f",
   "metadata": {},
   "outputs": [],
   "source": [
    "print(\"Original value:\", 1.1)\n",
    "print(\"Converted value:\", int(1.1))"
   ]
  },
  {
   "cell_type": "markdown",
   "id": "3edca84c-b7d8-45bd-b39e-d69e34258e1c",
   "metadata": {},
   "source": [
    "Sometimes, we can have a string that contains a number within it. If this is the case, we can cast that string that represents a number into an integer using `int()`."
   ]
  },
  {
   "cell_type": "code",
   "execution_count": null,
   "id": "27ce3aa1-6e25-4a68-a8c6-e65363dfe224",
   "metadata": {},
   "outputs": [],
   "source": [
    "print(int(\"1\"))\n",
    "print(int(\"4\") + int(\"5\"))"
   ]
  },
  {
   "cell_type": "markdown",
   "id": "d19f1d68-1cb1-46e4-8fc7-e4796649cc30",
   "metadata": {},
   "source": [
    "You can also convert strings containing floating point numbers into `float` objects."
   ]
  },
  {
   "cell_type": "code",
   "execution_count": null,
   "id": "2cc2cd74-0e97-4ec0-896d-04fea422feba",
   "metadata": {},
   "outputs": [],
   "source": [
    "print(float(\"1.2\"))\n",
    "print(float(\"9.4\") - 1.25)"
   ]
  },
  {
   "cell_type": "markdown",
   "id": "ac0f2be6-1915-4f95-83f0-63f4101b998f",
   "metadata": {},
   "source": [
    "Note that strings can be represented with single quotes (`'1.2'`) or double quotes (`\"1.2\"`), but you can't mix both (e.g., `\"1.2'`)."
   ]
  },
  {
   "cell_type": "markdown",
   "id": "a540e686-9248-4586-8a68-e2020e300951",
   "metadata": {},
   "source": [
    "### Variables\n",
    "\n",
    "Just like with most programming languages, we can store values in **variables**, so we can use them later on."
   ]
  },
  {
   "cell_type": "code",
   "execution_count": 4,
   "id": "233877b4-5199-425a-b2aa-fec215fcd569",
   "metadata": {},
   "outputs": [],
   "source": [
    "x = 43 + 60 + 16 + 41"
   ]
  },
  {
   "cell_type": "markdown",
   "id": "61b421a4-402a-4b50-85f6-9e4b4d46ddc1",
   "metadata": {},
   "source": [
    "We can also perform operations on `x` and save the result to a new variable."
   ]
  },
  {
   "cell_type": "code",
   "execution_count": 5,
   "id": "2ccbea93-8706-4fe1-984d-3665b15ad6b6",
   "metadata": {},
   "outputs": [
    {
     "name": "stdout",
     "output_type": "stream",
     "text": [
      "2.6666666666666665\n"
     ]
    }
   ],
   "source": [
    "y = x / 60\n",
    "print(y)"
   ]
  },
  {
   "cell_type": "markdown",
   "id": "13553d88-cd7f-4163-b4a4-c7025f3c7f0b",
   "metadata": {},
   "source": [
    "If we save a value to an existing variable, the new value will overwrite the previous value."
   ]
  },
  {
   "cell_type": "code",
   "execution_count": null,
   "id": "8971b386-5a54-43ee-b1d9-4fcd2e5f6da5",
   "metadata": {},
   "outputs": [],
   "source": [
    "x = x / 60\n",
    "print('New value:', x)"
   ]
  },
  {
   "cell_type": "markdown",
   "id": "dc95107f-110f-422c-8153-60f60914981c",
   "metadata": {},
   "source": [
    "### User Input\n",
    "\n",
    "Python's `input()` function can be used to accept an input from the user. For example, suppose we wish the user to input their age."
   ]
  },
  {
   "cell_type": "code",
   "execution_count": null,
   "id": "78324b1f-c6e2-4dc7-aed9-77d53e731265",
   "metadata": {},
   "outputs": [],
   "source": [
    "age = input(\"Enter your age:\")"
   ]
  },
  {
   "cell_type": "markdown",
   "id": "f8c05c7f-1034-4ebc-b542-328a4917a5c0",
   "metadata": {},
   "source": [
    "The entered value is stored in the variable `age` and can be used for computation.\n",
    "\n",
    "Note: for those of you using an online environment for Jupyter, you may run into the following error when getting input:\n",
    "\n",
    "```\n",
    "TypeError: 'PyodideFuture' object is not subscriptable\n",
    "```\n",
    "\n",
    "If you do, you will need to add the `await` keyword in front of the `input()` function call. For example:\n",
    "\n",
    "```Python\n",
    "user_answer = await input(\"Please give me input:\")\n",
    "```"
   ]
  },
  {
   "cell_type": "markdown",
   "id": "6ea33e80-9610-4599-bccc-a28d194e53f3",
   "metadata": {},
   "source": [
    "<mark>Exercise 1</mark>\n",
    "\n",
    "Ask the user to input their year of birth. Then, calculate and print their age (or the age they will be this year)."
   ]
  },
  {
   "cell_type": "code",
   "execution_count": 2,
   "id": "7d9728d8-960b-4342-a65d-547d73f720dd",
   "metadata": {},
   "outputs": [
    {
     "name": "stdout",
     "output_type": "stream",
     "text": [
      "Please enter your year of birth: 1990\n"
     ]
    },
    {
     "name": "stdout",
     "output_type": "stream",
     "text": [
      "34\n"
     ]
    }
   ],
   "source": [
    "year_of_birth = input(\"Please enter your year of birth:\")\n",
    "print(2024 - int(year_of_birth))"
   ]
  },
  {
   "cell_type": "markdown",
   "id": "97fdb509-fe84-4e93-9dd8-3402f52b46d8",
   "metadata": {},
   "source": [
    "<mark>Exercise 2</mark>\n",
    "\n",
    "The formula for computing the final amount $A$ if one is earning compund interest is given by:\n",
    "\n",
    "$$\n",
    "A = P(1 + \\frac{r}{n})^{nt}\n",
    "$$\n",
    "\n",
    "where:\n",
    "\n",
    "- $P$ = principal amount (initial investment)\n",
    "- $r$ = annual nominal interest rate\n",
    "- $n$ = number of times the interest is computed per year\n",
    "- $t$ = number of years\n",
    "\n",
    "Write a Python program that assigns the principal amount of $10,000 to variable `P`, assign to `n` the value 12, and assign to `r` the interest rate of 8%. Then have the program prompt the user for the number of years `t` that the money will be compounded for. Calculate and print the final amount after `t` years."
   ]
  },
  {
   "cell_type": "code",
   "execution_count": 17,
   "id": "e9fcaae9-16bc-445b-bdf2-463ed4027b78",
   "metadata": {},
   "outputs": [
    {
     "name": "stdout",
     "output_type": "stream",
     "text": [
      "Please enter the number of years: 30\n"
     ]
    },
    {
     "name": "stdout",
     "output_type": "stream",
     "text": [
      "109357.30\n"
     ]
    }
   ],
   "source": [
    "import math\n",
    "P, n, r = 10000, 12, 0.08\n",
    "t = int(input(\"Please enter the number of years:\"))\n",
    "A = P * math.pow(1 + r / n, n * t)\n",
    "print(\"%.2f\" % A)"
   ]
  },
  {
   "cell_type": "markdown",
   "id": "de868028-3f03-44cb-9dad-568b8d8007a4",
   "metadata": {},
   "source": [
    "### Indexing\n",
    "\n",
    "It is helpful to think of a string as an ordered sequence. Each element in the sequence can be accessed using an index represented by the array of numbers."
   ]
  },
  {
   "cell_type": "code",
   "execution_count": null,
   "id": "1c77f074-18ad-49a8-b612-50202ce5e446",
   "metadata": {},
   "outputs": [],
   "source": [
    "my_name = input(\"Enter your name\")"
   ]
  },
  {
   "cell_type": "code",
   "execution_count": null,
   "id": "05bdeade-2953-45df-bc6f-8d4748c05c32",
   "metadata": {},
   "outputs": [],
   "source": [
    "print(\"First character:\", my_name[0])\n",
    "print(\"Sixth character:\", my_name[5])"
   ]
  },
  {
   "cell_type": "markdown",
   "id": "a25906b5-daa6-476e-80c8-d22e6f71b38f",
   "metadata": {},
   "source": [
    "### Negative Indexing\n",
    "\n",
    "We can also use negative indexing with strings. Negative index can help us to count the element from the end of the string. The last element is given by the index -1."
   ]
  },
  {
   "cell_type": "code",
   "execution_count": null,
   "id": "81120592-250f-47e3-9abb-22e7456b6d2f",
   "metadata": {},
   "outputs": [],
   "source": [
    "print(\"Last character:\", my_name[-1])"
   ]
  },
  {
   "cell_type": "markdown",
   "id": "cfb01e1e-8e74-4de5-8f5a-c01d5fe439c2",
   "metadata": {},
   "source": [
    "We can find the number of characters in a string by using `len`."
   ]
  },
  {
   "cell_type": "code",
   "execution_count": null,
   "id": "a6536421-bfdd-4730-bc7a-5e42ebdb0f92",
   "metadata": {},
   "outputs": [],
   "source": [
    "print(\"My name has a length of\", len(my_name))"
   ]
  },
  {
   "cell_type": "markdown",
   "id": "f81bbfe8-bc87-440f-a798-999acb1cbd3b",
   "metadata": {},
   "source": [
    "### Slicing\n",
    "\n",
    "We can obtain multiple characters from a string using **slicing**. When taking the slice, the first number means the index (remember, indices start at 0), and the second number means the index to stop at (but whose element is not included!)."
   ]
  },
  {
   "cell_type": "code",
   "execution_count": null,
   "id": "185e8d34-cc95-441c-a993-654ad11d9545",
   "metadata": {},
   "outputs": [],
   "source": [
    "print(my_name[0:4])\n",
    "print(my_name[8:12])"
   ]
  },
  {
   "cell_type": "markdown",
   "id": "60a322f5-ab5b-4a12-a621-471e36e67dac",
   "metadata": {},
   "source": [
    "We can also input a **stride value** which indicates how many elements to \"skip over\"."
   ]
  },
  {
   "cell_type": "code",
   "execution_count": null,
   "id": "5b0bc401-6fd6-43b6-8b91-42d5cb9a1360",
   "metadata": {},
   "outputs": [],
   "source": [
    "# get every second element\n",
    "# the elements at index 1, 3, 5, ...\n",
    "print(my_name[::2])"
   ]
  },
  {
   "cell_type": "markdown",
   "id": "197878a0-cde9-4e8d-9e3d-205b446aeb0c",
   "metadata": {},
   "source": [
    "We can also incorporate slicing with the stride."
   ]
  },
  {
   "cell_type": "code",
   "execution_count": null,
   "id": "1a5cbb6c-4d46-4ef6-8d84-7f2374660b55",
   "metadata": {},
   "outputs": [],
   "source": [
    "# get every second element in the range from index 0 to index 4\n",
    "print(my_name[0:5:2])"
   ]
  },
  {
   "cell_type": "markdown",
   "id": "f3d1a7da-71f6-449f-a3a5-0fbe4b9d0dc0",
   "metadata": {},
   "source": [
    "We can concatenate or combine strings by using the `+` symbol, and the result is a new string that is a combination of both."
   ]
  },
  {
   "cell_type": "code",
   "execution_count": null,
   "id": "dc0eaee7-d415-4fd5-bb7d-c5936b6c1294",
   "metadata": {},
   "outputs": [],
   "source": [
    "statement = my_name + \" is the best\"\n",
    "print(statement)"
   ]
  },
  {
   "cell_type": "markdown",
   "id": "669aa4b4-bfc9-494b-aee7-d60d7443896b",
   "metadata": {},
   "source": [
    "To replicate values of a string we simply multiply the string by the number of times we would like to replicate it."
   ]
  },
  {
   "cell_type": "code",
   "execution_count": null,
   "id": "64ffe3d0-6afc-40d6-abe1-8b9eb5fa4c52",
   "metadata": {},
   "outputs": [],
   "source": [
    "number = int(input(\"Enter a number\"))"
   ]
  },
  {
   "cell_type": "code",
   "execution_count": null,
   "id": "99385135-073e-4986-b0d6-145168f59d90",
   "metadata": {},
   "outputs": [],
   "source": [
    "print(number * my_name)"
   ]
  },
  {
   "cell_type": "markdown",
   "id": "d5939f1c-1be5-44ec-9561-f5163f65e93b",
   "metadata": {},
   "source": [
    "<mark>Exercise 3</mark>\n",
    "\n",
    "Use slicing to print out the first three elements in the variable."
   ]
  },
  {
   "cell_type": "code",
   "execution_count": 19,
   "id": "21acfa22-0cf5-4906-8173-d01ddba94ff0",
   "metadata": {},
   "outputs": [
    {
     "name": "stdout",
     "output_type": "stream",
     "text": [
      "ABC\n"
     ]
    }
   ],
   "source": [
    "letters = \"ABCDEFG\"\n",
    "print(letters[0:3])"
   ]
  },
  {
   "cell_type": "markdown",
   "id": "f80b6c5c-4753-4a34-81ea-386803a21e25",
   "metadata": {},
   "source": [
    "<mark>Exercise 4</mark>\n",
    "\n",
    "Use a stride value to print out every third character for the string."
   ]
  },
  {
   "cell_type": "code",
   "execution_count": 30,
   "id": "91b23fdf-da74-43e5-9952-10caca027b22",
   "metadata": {},
   "outputs": [
    {
     "name": "stdout",
     "output_type": "stream",
     "text": [
      "bgYTRX\n"
     ]
    }
   ],
   "source": [
    "gibberish = 'uTbLugaCYVATvZRovXUp'\n",
    "print(gibberish[2:-1:3])"
   ]
  },
  {
   "cell_type": "markdown",
   "id": "db86f1ec-54b2-41b4-8bb0-23972fb80ccb",
   "metadata": {},
   "source": [
    "<mark>Exercise 5</mark>\n",
    "\n",
    "There are many, many string methods in Python that can be used to manipulate the data. Read through [the documentation](https://docs.python.org/3/library/stdtypes.html#string-methods) and find a function that will find the first index of the substring `snow` for the variable below."
   ]
  },
  {
   "cell_type": "code",
   "execution_count": 31,
   "id": "70eec916-d94c-42ff-a03a-62a232067f74",
   "metadata": {},
   "outputs": [
    {
     "name": "stdout",
     "output_type": "stream",
     "text": [
      "95\n"
     ]
    }
   ],
   "source": [
    "story = \"Mary had a little lamb Little lamb, little lamb Mary had a little lamb \\\n",
    "Its fleece was white as snow And everywhere that Mary went Mary went, Mary went \\\n",
    "Everywhere that Mary went The lamb was sure to go\"\n",
    "print(story.find(\"snow\"))"
   ]
  },
  {
   "cell_type": "markdown",
   "id": "d5ebfe60-a211-4486-aa44-9e4e0ad7d258",
   "metadata": {},
   "source": [
    "## Control Flow\n",
    "\n",
    "One of the most powerful features of programming languages is **branching**: the ability to make decisions and execute a different set of statements based on whether one or more conditions are true."
   ]
  },
  {
   "cell_type": "markdown",
   "id": "eb452ca4-f2da-47ac-8bd5-af57a09aa905",
   "metadata": {},
   "source": [
    "### The `if` Statement\n",
    "\n",
    "In Python, branching is implemented using the `if` statement, which is written as follows:\n",
    "\n",
    "```Python\n",
    "if condition:\n",
    "    statement1\n",
    "    statement2\n",
    "```\n",
    "\n",
    "The `condition` can be a value, variable or expression. If the condition evaluates to `True`, then the statements within the `if` block are executed. Notice the four spaces before `statement1`, `statement2`, etc. The spaces inform Python that these statements are associated with the `if` statement above. This technique of structuring code by adding spaces is called *indentation*.\n",
    "\n",
    "Python relies heavily on indentation to define code structure. This makes Python code easy to read and understand. You can run into problems if you don’t use indentation properly. Indent your code by placing the cursor at the start of the line and pressing the <kbd>Tab</kbd> key once to add 4 spaces. Pressing <kbd>Tab</kbd> again will indent the code further by 4 more spaces, and press <kbd>Shift</kbd> + <kbd>Tab</kbd> will reduce the indentation by 4 spaces.\n",
    "\n",
    "For example, let’s write some code to check and print a message if a given number is even."
   ]
  },
  {
   "cell_type": "code",
   "execution_count": null,
   "id": "b44ef1da-2987-4d62-901c-bd355a924ba6",
   "metadata": {},
   "outputs": [],
   "source": [
    "a_number = 34\n",
    "if a_number % 2 == 0:\n",
    "    print(\"We're inside an if block\")\n",
    "    print('The given number {} is even.'.format(a_number))"
   ]
  },
  {
   "cell_type": "markdown",
   "id": "d17f67fc-109d-4a4d-b3cf-4717cc30e4c9",
   "metadata": {},
   "source": [
    "### The `else` Statement\n",
    "\n",
    "We may want to print a different message if the number is not even in the above example. This can be done by adding the `else` statement. It is written as follows:\n",
    "\n",
    "```Python\n",
    "if condition:\n",
    "    statement1\n",
    "    statement2\n",
    "else:\n",
    "    statement4\n",
    "    statement5\n",
    "```\n",
    "\n",
    "If `condition` evaluates to `True`, the statements in the `if` block are executed. If it evaluates to `False`, the statements in the `else` block are executed."
   ]
  },
  {
   "cell_type": "code",
   "execution_count": null,
   "id": "ba245fe6-0a3c-4564-9824-94b704e8d59d",
   "metadata": {},
   "outputs": [],
   "source": [
    "if a_number % 2 == 0:\n",
    "    print('The given number {} is even.'.format(a_number))\n",
    "else:\n",
    "    print('The given number {} is odd.'.format(a_number))"
   ]
  },
  {
   "cell_type": "markdown",
   "id": "3780ffcb-e3ac-4158-813a-bf80c759bbfe",
   "metadata": {},
   "source": [
    "### The `elif` Statement\n",
    "\n",
    "Python also provides an `elif` statement (short for *else if*) to chain a series of conditional blocks. The conditions are evaluated one by one. For the first condition that evaluates to `True`, the block of statements below it is executed. The remaining conditions and statements are not evaluated."
   ]
  },
  {
   "cell_type": "code",
   "execution_count": null,
   "id": "16f9c9e2-430d-4074-b42b-bc0d7a36037d",
   "metadata": {},
   "outputs": [],
   "source": [
    "today = 'Thursday'\n",
    "if today == 'Sunday':\n",
    "    print(\"Today is the day of the sun.\")\n",
    "elif today == 'Monday':\n",
    "    print(\"Today is the day of the moon.\")\n",
    "elif today == 'Tuesday':\n",
    "    print(\"Today is the day of Tyr, the god of war.\")\n",
    "elif today == 'Wednesday':\n",
    "    print(\"Today is the day of Odin, the supreme diety.\")\n",
    "elif today == 'Thursday':\n",
    "    print(\"Today is the day of Thor, the god of thunder.\")\n",
    "elif today == 'Friday':\n",
    "    print(\"Today is the day of Frigga, the goddess of beauty.\")\n",
    "elif today == 'Saturday':\n",
    "    print(\"Today is the day of Saturn, the god of fun and feasting.\")"
   ]
  },
  {
   "cell_type": "markdown",
   "id": "504a42b2-dc2c-4540-9a69-907c7f643f62",
   "metadata": {},
   "source": [
    "You can also include an `else` statement at the end of a chain. The code within the `else` block is evaluated when none of the conditions hold true."
   ]
  },
  {
   "cell_type": "code",
   "execution_count": null,
   "id": "3c520ca0-84da-4d35-8fab-83b79fb97333",
   "metadata": {},
   "outputs": [],
   "source": [
    "a_number = 49\n",
    "if a_number % 2 == 0:\n",
    "    print('{} is divisible by 2'.format(a_number))\n",
    "elif a_number % 3 == 0:\n",
    "    print('{} is divisible by 3'.format(a_number))\n",
    "elif a_number % 5 == 0:\n",
    "    print('{} is divisible by 5'.format(a_number))\n",
    "else:\n",
    "    print('All checks failed!')\n",
    "    print('{} is not divisible by 2, 3 or 5'.format(a_number))"
   ]
  },
  {
   "cell_type": "markdown",
   "id": "57e84e7f-dc5f-4c2c-add6-4a8895680afe",
   "metadata": {},
   "source": [
    "### Nested Conditional Statements\n",
    "\n",
    "The code inside an `if` block can also include an `if` statement inside it. This pattern is called **nesting** and is used to check for another condition after a particular condition holds true."
   ]
  },
  {
   "cell_type": "code",
   "execution_count": null,
   "id": "ea8f5fc2-2174-4f30-8cb4-ea5d81a4aee1",
   "metadata": {},
   "outputs": [],
   "source": [
    "a_number = 15\n",
    "if a_number % 2 == 0:\n",
    "    print(\"{} is even\".format(a_number))\n",
    "    if a_number % 3 == 0:\n",
    "        print(\"{} is also divisible by 3\".format(a_number))\n",
    "    else:\n",
    "        print(\"{} is not divisibule by 3\".format(a_number))\n",
    "else:\n",
    "    print(\"{} is odd\".format(a_number))\n",
    "    if a_number % 5 == 0:\n",
    "        print(\"{} is also divisible by 5\".format(a_number))\n",
    "    else:\n",
    "        print(\"{} is not divisibule by 5\".format(a_number))"
   ]
  },
  {
   "cell_type": "markdown",
   "id": "d07dde03-1231-4ed1-bae2-5f9de13476ba",
   "metadata": {},
   "source": [
    "### Conditional Expression\n",
    "\n",
    "A frequent use case of the `if` statement involves testing a condition and setting a variable's value based on the condition. Python provides a shorter syntax, which allows writing such conditions in a single line of code. It is known as a **conditional expression**, sometimes also referred to as a *ternary operator*. It has the following syntax:\n",
    "\n",
    "```Python\n",
    "x = true_value if condition else false_value\n",
    "```\n",
    "\n",
    "It has the same behavior as the following `if-else` block:\n",
    "\n",
    "```Python\n",
    "if condition:\n",
    "    x = true_value\n",
    "else:\n",
    "    x = false_value\n",
    "```"
   ]
  },
  {
   "cell_type": "code",
   "execution_count": null,
   "id": "af4ea394-3502-413c-842c-3bcd94e80291",
   "metadata": {},
   "outputs": [],
   "source": [
    "parity = 'even' if a_number % 2 == 0 else 'odd'\n",
    "print('The number {} is {}.'.format(a_number, parity))"
   ]
  },
  {
   "cell_type": "markdown",
   "id": "6af3ca21-51d5-43f6-8ea4-41ec83d1e84a",
   "metadata": {},
   "source": [
    "### The `pass` Statement\n",
    "\n",
    "There must be at least one statement in every `if` and `elif` block. We can use the `pass` statement to do nothing and avoid getting an error."
   ]
  },
  {
   "cell_type": "code",
   "execution_count": null,
   "id": "425f2eda-9687-4f80-9228-17f4a8de05ff",
   "metadata": {},
   "outputs": [],
   "source": [
    "if a_number % 2 == 0:\n",
    "    pass\n",
    "elif a_number % 3 == 0:\n",
    "    print('{} is divisible by 3 but not divisible by 2'.format(a_number))"
   ]
  },
  {
   "cell_type": "markdown",
   "id": "2ad68419-c067-4718-a693-c1d6b1bdd884",
   "metadata": {},
   "source": [
    "<mark>Exercise 6</mark>\n",
    "\n",
    "Write code that gets the user's hourly pay rate and number of hours worked this week. Calculate their total pay for the week. If they enter a non-positive number for either input, display an error message. If their total pay exceeds $10,000, print a message to remind them to pay their taxes."
   ]
  },
  {
   "cell_type": "code",
   "execution_count": 36,
   "id": "4ac5cd39-ef52-4855-b0b8-948f6f25feed",
   "metadata": {},
   "outputs": [
    {
     "name": "stdout",
     "output_type": "stream",
     "text": [
      "Please enter your pay rate: -2\n",
      "Please enter the number of hours worked this week: 45\n"
     ]
    },
    {
     "name": "stdout",
     "output_type": "stream",
     "text": [
      "You entered a non-positive number!!\n"
     ]
    }
   ],
   "source": [
    "weekly_pay = 0\n",
    "TAXABLE_PAY_THRESHOLD = 10000\n",
    "pay_rate = int(input(\"Please enter your pay rate:\"))\n",
    "hours_worked_weekly = int(input(\"Please enter the number of hours worked this week:\"))\n",
    "if pay_rate < 0 or hours_worked_weekly < 0:\n",
    "    print(\"You entered a non-positive number!!\")\n",
    "else:\n",
    "    weekly_pay = pay_rate * hours_worked_weekly\n",
    "    if weekly_pay > TAXABLE_PAY_THRESHOLD:\n",
    "        print(\"Don't forget to pay your taxes!\")\n",
    "    else:\n",
    "        print(\"Your weekly pay is\", weekly_pay)\n"
   ]
  },
  {
   "cell_type": "markdown",
   "id": "879459bc-2273-4009-8790-cf1dc4256d99",
   "metadata": {},
   "source": [
    "### Iteration with `while` Loops\n",
    "\n",
    "Another powerful feature of programming languages, closely related to branching, is running one or more statements multiple times. This feature is often referred to as **iteration** or **looping**.\n",
    "\n",
    "`while` loops have the following syntax:\n",
    "\n",
    "```Python\n",
    "while condition:\n",
    "    statement1\n",
    "    statement2\n",
    "    statement3\n",
    "```\n",
    "\n",
    "Statements in the code block under `while` are executed repeatedly as long as the condition evaluates to `True`. Generally, one of the statements under `while` makes some change to a variable that causes the condition to evaluate to `False` after a certain number of iterations.\n",
    "\n",
    "Let’s try to calculate the factorial of 10 using a `while` loop. The factorial of a number $n$ is the product (multiplication) of all the numbers from 1 to $n$, i.e.,\n",
    "\n",
    "$$1\\times2\\times3\\times\\dots\\times(n-2)\\times(n-1)\\times n$$"
   ]
  },
  {
   "cell_type": "code",
   "execution_count": null,
   "id": "edd4a59f-579d-433b-a9ee-69b6a8851939",
   "metadata": {},
   "outputs": [],
   "source": [
    "result = 1\n",
    "i = 1\n",
    "\n",
    "while i <= 10:\n",
    "    result = result * i\n",
    "    i = i + 1\n",
    "\n",
    "print('The factorial of 10 is:', result)"
   ]
  },
  {
   "cell_type": "markdown",
   "id": "db8672af-cb30-4be7-b1f8-8e5f830c029b",
   "metadata": {},
   "source": [
    "### Infinite Loops\n",
    "\n",
    "Suppose the condition in a `while` loop always holds true. In that case, Python repeatedly executes the code within the loop forever, and the execution of the code never completes. This situation is called an *infinite loop*. It generally indicates that you've made a mistake in your code. For example, you may have provided the wrong condition or forgotten to update a variable within the loop, eventually falsifying the condition.\n",
    "\n",
    "If your code is stuck in an infinite loop during execution, just press the *Stop* symbol on the toolbar or select <kbd>Kernel</kbd> then <kbd>Interrupt Kernel</kbd> from the menu bar. This will interrupt the execution of the code.\n",
    "\n",
    "The following two cells both lead to infinite loops and need to be interrupted."
   ]
  },
  {
   "cell_type": "code",
   "execution_count": null,
   "id": "66100273-1131-4ecb-bbb1-e3f1fa9116b9",
   "metadata": {},
   "outputs": [],
   "source": [
    "# INFINITE LOOP - INTERRUPT THIS CELL\n",
    "\n",
    "result = 1\n",
    "i = 1\n",
    "\n",
    "while i <= 100:\n",
    "    result = result * i\n",
    "    # forgot to increment i"
   ]
  },
  {
   "cell_type": "markdown",
   "id": "d6c6b04d-e5f6-4807-a3f6-e84cb4ec9645",
   "metadata": {},
   "source": [
    "### `break` and `continue` Statements\n",
    "\n",
    "In Python, `break` and `continue` statements can alter the flow of a normal loop.\n",
    "\n",
    "We can use the `break` statement within the loop's body to immediately stop the execution and break out of the loop."
   ]
  },
  {
   "cell_type": "code",
   "execution_count": null,
   "id": "920117c4-5f4e-4df2-bf6e-4cee749a7cd6",
   "metadata": {},
   "outputs": [],
   "source": [
    "i = 1\n",
    "result = 1\n",
    "\n",
    "while i <= 100:\n",
    "    result *= i\n",
    "    if i == 42:\n",
    "        print('Magic number 42 reached! Stopping execution..')\n",
    "        break\n",
    "    i += 1\n",
    "    \n",
    "print('i:', i)\n",
    "print('result:', result)"
   ]
  },
  {
   "cell_type": "markdown",
   "id": "5efa1340-abd8-4ed7-8102-d6d28c79ffb0",
   "metadata": {},
   "source": [
    "With the `continue` statement, if the condition evaluates to `True`, then the loop will move to the next iteration."
   ]
  },
  {
   "cell_type": "code",
   "execution_count": null,
   "id": "956c24a5-15ad-43dd-9e5e-b36108cac58d",
   "metadata": {},
   "outputs": [],
   "source": [
    "i = 1\n",
    "result = 1\n",
    "\n",
    "while i < 8:\n",
    "    i += 1\n",
    "    if i % 2 == 0:\n",
    "        print('Skipping {}'.format(i))\n",
    "        continue\n",
    "    print('Multiplying with {}'.format(i))\n",
    "    result = result * i\n",
    "    \n",
    "print('i:', i)\n",
    "print('result:', result)"
   ]
  },
  {
   "cell_type": "markdown",
   "id": "4709c143-8efe-4f8a-b455-7663f8aa6660",
   "metadata": {},
   "source": [
    "### Iteration with `for` Loops\n",
    "\n",
    "A `for` loop is used for iterating or looping over sequences, like strings. `for` loops have the following syntax:\n",
    "\n",
    "```Python\n",
    "for value in sequence:\n",
    "    statement1\n",
    "    statement2\n",
    "    statement3\n",
    "```\n",
    "\n",
    "The statements within the loop are executed once for each element in sequence."
   ]
  },
  {
   "cell_type": "code",
   "execution_count": null,
   "id": "11daebab-4733-4180-8313-6b6532f99102",
   "metadata": {},
   "outputs": [],
   "source": [
    "for char in 'Monday':\n",
    "    print(char)"
   ]
  },
  {
   "cell_type": "markdown",
   "id": "bbe79548-36d6-4a69-bf2b-990f8c3b0b16",
   "metadata": {},
   "source": [
    "### Iterating using `range`\n",
    "\n",
    "The `range` function is used to create a sequence of numbers that can be iterated over using a `for` loop. It can be used in 3 ways:\n",
    "\n",
    "- `range(n)` - Creates a sequence of numbers from 0 to n-1\n",
    "- `range(a, b)` - Creates a sequence of numbers from a to b-1\n",
    "- `range(a, b, step)` - Creates a sequence of numbers from a to b-1 with increments of step"
   ]
  },
  {
   "cell_type": "code",
   "execution_count": null,
   "id": "89a01f87-300e-4e40-a065-733be398cf46",
   "metadata": {},
   "outputs": [],
   "source": [
    "for i in range(4):\n",
    "    print(i)"
   ]
  },
  {
   "cell_type": "code",
   "execution_count": null,
   "id": "a04fd8a8-08ce-4599-954e-6cdec5a2ccd9",
   "metadata": {},
   "outputs": [],
   "source": [
    "for i in range(3, 8):\n",
    "    print(i)"
   ]
  },
  {
   "cell_type": "code",
   "execution_count": null,
   "id": "dac48283-b2e4-48b9-a71d-7b4145be9bc5",
   "metadata": {},
   "outputs": [],
   "source": [
    "for i in range(3, 14, 4):\n",
    "    print(i)"
   ]
  },
  {
   "cell_type": "markdown",
   "id": "cf03e417-d74b-469e-bc8b-933e9e5a1d03",
   "metadata": {},
   "source": [
    "<mark>Exercise 7</mark>\n",
    "\n",
    "Write a program that uses a loop to print the following pattern:\n",
    "\n",
    "```\n",
    "5 4 3 2 1 \n",
    "4 3 2 1 \n",
    "3 2 1 \n",
    "2 1 \n",
    "1\n",
    "```"
   ]
  },
  {
   "cell_type": "code",
   "execution_count": 44,
   "id": "84699413-7795-4b32-b53f-ac594f161312",
   "metadata": {},
   "outputs": [
    {
     "name": "stdout",
     "output_type": "stream",
     "text": [
      "5 4 3 2 1 \n",
      "4 3 2 1 \n",
      "3 2 1 \n",
      "2 1 \n",
      "1 \n"
     ]
    }
   ],
   "source": [
    "for row in range(5):\n",
    "    for col in range(5 - row, 0, -1):\n",
    "        print(col, end = \" \")\n",
    "    print()"
   ]
  },
  {
   "cell_type": "markdown",
   "id": "b696f0a5-6ded-4596-8b1d-18d5bda662a6",
   "metadata": {},
   "source": [
    "## Functions\n",
    "\n",
    "A function is a piece of code that has a specific purpose or performs a specific task. To define a function in Python, we use the `def` keyword followed by the name of the function, then the body.\n",
    "\n",
    "In general, the syntax is:\n",
    "\n",
    "```Python\n",
    "def name_of_function():\n",
    "    statement1\n",
    "    statement2\n",
    "    statement3\n",
    "```\n",
    "\n",
    "Look at the function defined below. It asks the user to input a number, and prints whether the number is odd or even."
   ]
  },
  {
   "cell_type": "code",
   "execution_count": null,
   "id": "dce88300-482d-43f4-bd35-99e0d22b1e7c",
   "metadata": {},
   "outputs": [],
   "source": [
    "def odd_even():           \n",
    "    num = int(input(\"Enter an integer:\"))\n",
    "    if num % 2 == 0:\n",
    "        print(\"Even\")\n",
    "    else:\n",
    "        print(\"Odd\")\n",
    "        \n",
    "print(\"This line is not a part of the function as it is not indented\")"
   ]
  },
  {
   "cell_type": "markdown",
   "id": "43edd5e9-4732-4126-9980-30e07fd553b9",
   "metadata": {},
   "source": [
    "All the lines within the function definition are indented. The indentation shows the lines of code that belong to the function. When the indentation stops, the function definition is considered to have ended.\n",
    "\n",
    "Whenever the user wishes to input a number and print whether it is odd or even, they can call the function defined above by its name as follows."
   ]
  },
  {
   "cell_type": "code",
   "execution_count": null,
   "id": "28b07c88-2605-4101-8513-1f3622866dbd",
   "metadata": {},
   "outputs": [],
   "source": [
    "odd_even()"
   ]
  },
  {
   "cell_type": "markdown",
   "id": "b01c2eb8-ccd5-44e0-867a-d0e66b43aaeb",
   "metadata": {},
   "source": [
    "### Parameters and Arguments\n",
    "\n",
    "Note that the function defined above needs no input when called. However, sometimes we may wish to define a function that takes input(s), and performs computations on the inputs to produce an output. These inputs are called **parameters** of a function. When a function is called, the values of these parameters must be specified as **arguments** to the function.\n",
    "\n",
    "Let us change the previous example to write a function that takes an integer as an input argument, and prints whether it is odd or even:"
   ]
  },
  {
   "cell_type": "code",
   "execution_count": null,
   "id": "9d46df85-27ba-498d-b52c-3fe7a0a591e4",
   "metadata": {},
   "outputs": [],
   "source": [
    "def odd_even(num):           \n",
    "    if num % 2 == 0:\n",
    "        print(\"Even\")\n",
    "    else:\n",
    "        print(\"Odd\")"
   ]
  },
  {
   "cell_type": "markdown",
   "id": "81b4e731-1585-458e-8cb2-f4a69af8e6d9",
   "metadata": {},
   "source": [
    "We can use the function whenever we wish to find a number is odd or even. For example, if we wish to find that a number input by the user is odd or even, we can call the function with the user input as its argument."
   ]
  },
  {
   "cell_type": "code",
   "execution_count": null,
   "id": "de716a39-3e86-42a3-aa74-71d7359b8a9b",
   "metadata": {},
   "outputs": [],
   "source": [
    "number = int(input(\"Enter an integer:\"))"
   ]
  },
  {
   "cell_type": "code",
   "execution_count": null,
   "id": "e0c27872-6bcc-48d1-af40-967400f17bc6",
   "metadata": {},
   "outputs": [],
   "source": [
    "odd_even(number)"
   ]
  },
  {
   "cell_type": "markdown",
   "id": "9694505e-9927-42b1-bfb5-98f8b95b1d60",
   "metadata": {},
   "source": [
    "Note that the above function needs an argument as per the function definition. It will produce an error if called without an argument:"
   ]
  },
  {
   "cell_type": "code",
   "execution_count": null,
   "id": "5b4b4fed-4e86-4fbc-a447-f143ced755f3",
   "metadata": {},
   "outputs": [],
   "source": [
    "odd_even()"
   ]
  },
  {
   "cell_type": "markdown",
   "id": "1196b560-1955-49df-8d6d-707f017ef530",
   "metadata": {},
   "source": [
    "### Default Argument Values\n",
    "\n",
    "To avoid errors as above, sometimes is a good idea to assign a default value to the parameter in the function definition."
   ]
  },
  {
   "cell_type": "code",
   "execution_count": null,
   "id": "4441663e-213c-4e9c-af35-942e487e4423",
   "metadata": {},
   "outputs": [],
   "source": [
    "def odd_even(num=0):           \n",
    "    if num % 2 == 0:\n",
    "        print(\"Even\")\n",
    "    else:\n",
    "        print(\"Odd\")"
   ]
  },
  {
   "cell_type": "markdown",
   "id": "f43f8e06-17a7-4410-9acf-ddfa1ea00b22",
   "metadata": {},
   "source": [
    "Now, we can call the function without an argument. The function will use the default value of the parameter specified in the function definition."
   ]
  },
  {
   "cell_type": "code",
   "execution_count": null,
   "id": "25524de1-5685-475e-a561-f86b1f24a1ec",
   "metadata": {},
   "outputs": [],
   "source": [
    "odd_even()"
   ]
  },
  {
   "cell_type": "markdown",
   "id": "1c5a3c0c-c99e-463e-afcf-9509fe9e103d",
   "metadata": {},
   "source": [
    "### Multiple Parameters\n",
    "\n",
    "A function can have as many parameters as needed. Multiple parameters/arguments are separated by commas. For example, below is a function that inputs two strings, concatenates them with a space in between, and prints the output."
   ]
  },
  {
   "cell_type": "code",
   "execution_count": null,
   "id": "4b9e6249-22bc-4374-9058-2b8c0434b666",
   "metadata": {},
   "outputs": [],
   "source": [
    "def concat_string(string1, string2):\n",
    "    print(string1 + ' ' + string2)\n",
    "\n",
    "concat_string(\"Hi\", \"there\")"
   ]
  },
  {
   "cell_type": "markdown",
   "id": "58b4d0b1-3b9f-4d30-923e-b117d7beed84",
   "metadata": {},
   "source": [
    "<mark>Exercise 8</mark>\n",
    "\n",
    "Write a function that accepts a string as a parameter and counts the number of upper and lower case letters.\n",
    "\n",
    "For example, if the input is `'The qUick Brown Fox'`, the function should output:\n",
    "\n",
    "```\n",
    "Upper case characters: 4\n",
    "Lower case Characters: 12\n",
    "```"
   ]
  },
  {
   "cell_type": "code",
   "execution_count": null,
   "id": "bd4834a7-b9d7-49b2-af4f-7fb6fd0672bd",
   "metadata": {},
   "outputs": [],
   "source": [
    "def cal_upper_lower(str):\n",
    "    upper_count, lower_count = 0, 0\n",
    "    \n",
    "    for c in str:\n",
    "        if c.isupper:\n",
    "            upper_count += 1\n",
    "    return upper_count\n",
    "str = \"The qUick Brown Fox\"\n",
    "upper_case_count = cal_upper_lower(str)\n",
    "lower_case_count = len(str) - upper_case_count\n",
    "print(\"Upper case characters: \" + upper_case_count)\n",
    "print(\"Lower case characters: \" + lower_case_count)"
   ]
  },
  {
   "cell_type": "markdown",
   "id": "0b8d48e1-914e-49c0-a990-fb38ac7e9b7c",
   "metadata": {},
   "source": [
    "### Functions That Return\n",
    "\n",
    "Until now, we saw functions that print text. However, the functions did not return any object. For example, the function `odd_even()` prints whether the number is odd or even. However, we did not save this information. In future, we may need to use the information that whether the number was odd or even. Thus, typically, we return an object from the function definition, which consists of the information we may need in the future."
   ]
  },
  {
   "cell_type": "code",
   "execution_count": null,
   "id": "cdc9260f-cddc-4cac-8d11-43edb4a486ef",
   "metadata": {},
   "outputs": [],
   "source": [
    "def odd_even(num=0):\n",
    "    if num % 2 == 0:\n",
    "        return(\"Even\")\n",
    "    else:\n",
    "        return(\"Odd\")"
   ]
  },
  {
   "cell_type": "markdown",
   "id": "f1436ee4-96a7-44fb-a319-5ace75345734",
   "metadata": {},
   "source": [
    "The function above returns a string `\"Odd\"` or `\"Even\"`, depending on whether the number is odd or even. This result can be stored in a variable, which can be used later."
   ]
  },
  {
   "cell_type": "code",
   "execution_count": null,
   "id": "b98abca3-1a1a-402b-a286-a900ff2d7b99",
   "metadata": {},
   "outputs": [],
   "source": [
    "response = odd_even(3)\n",
    "print(response)"
   ]
  },
  {
   "cell_type": "markdown",
   "id": "322aba9e-c630-4b2a-9aa8-4a9c4e947abf",
   "metadata": {},
   "source": [
    "The variable response now refers to the object where the string `\"Odd\"` or `\"Even\"` is stored. Thus, the result of the computation is stored, and the variable can be used later on in the program. Note that the control flow exits the function as soon as the first `return` statement is executed."
   ]
  },
  {
   "cell_type": "markdown",
   "id": "822f2e86-dc5e-4058-83bd-5961ea308332",
   "metadata": {},
   "source": [
    "### Built-in Python Functions\n",
    "\n",
    "There are [many, many, many functions](https://docs.python.org/3/library/functions.html) that come built-in with Python. Familiarity with these functions will make writing solutions in Python easier. You are encouraged to look through that list and try out them out.\n",
    "\n",
    "For example, the built-in function `max()` computes the max of numeric values."
   ]
  },
  {
   "cell_type": "code",
   "execution_count": null,
   "id": "6ef7e546-bb56-4a3c-9c85-6ed1a7eec867",
   "metadata": {},
   "outputs": [],
   "source": [
    "max(1,2,3)"
   ]
  },
  {
   "cell_type": "markdown",
   "id": "ecffef47-faed-4060-ad5c-f4e114a2107f",
   "metadata": {},
   "source": [
    "Another example is the `round()` function that rounds up floating point numbers."
   ]
  },
  {
   "cell_type": "code",
   "execution_count": null,
   "id": "83667345-39d5-4aa5-aef1-5cbcef69ab92",
   "metadata": {},
   "outputs": [],
   "source": [
    "round(3.7)"
   ]
  },
  {
   "cell_type": "markdown",
   "id": "e675c07e-1c94-42d7-8ea8-6952669df94b",
   "metadata": {},
   "source": [
    "### Python Libraries\n",
    "\n",
    "Other than the built-in functions, Python has [libraries](https://docs.python.org/3/library/index.html) that contain several useful functions. As an example: [generating random numbers](https://docs.python.org/3/library/random.html) is very useful in Python for performing simulations. The library `random` is used to generate random numbers such as integers, real numbers based on different probability distributions, etc. We can use the `import` keyword to access the functions in the `random` library for use in our program.\n",
    "\n",
    "Below is an example of using the `randint()` function of the library for generating random numbers inclusively between a and b, where a and b are integers."
   ]
  },
  {
   "cell_type": "code",
   "execution_count": null,
   "id": "0cb7980c-cc1b-4c79-a930-41c33f831c8d",
   "metadata": {},
   "outputs": [],
   "source": [
    "import random\n",
    "random.randint(5, 10)"
   ]
  },
  {
   "cell_type": "markdown",
   "id": "a66e76a5-7172-4243-86dd-6a9efcf64122",
   "metadata": {},
   "source": [
    "<mark>Exercise 9</mark>\n",
    "\n",
    "Generate a random integer between -5 and 5, inclusive. Do this 10,000 times. Find the mean of all the 10,000 random numbers generated."
   ]
  },
  {
   "cell_type": "code",
   "execution_count": null,
   "id": "6feb7dc4-efe6-46d2-bb4f-e9ecaa32a9df",
   "metadata": {},
   "outputs": [],
   "source": [
    "# TODO: write your solution here"
   ]
  }
 ],
 "metadata": {
  "kernelspec": {
   "display_name": "Python 3 (ipykernel)",
   "language": "python",
   "name": "python3"
  },
  "language_info": {
   "codemirror_mode": {
    "name": "ipython",
    "version": 3
   },
   "file_extension": ".py",
   "mimetype": "text/x-python",
   "name": "python",
   "nbconvert_exporter": "python",
   "pygments_lexer": "ipython3",
   "version": "3.12.3"
  }
 },
 "nbformat": 4,
 "nbformat_minor": 5
}
